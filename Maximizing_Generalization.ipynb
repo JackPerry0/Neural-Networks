{
  "cells": [
    {
      "cell_type": "markdown",
      "metadata": {
        "id": "view-in-github",
        "colab_type": "text"
      },
      "source": [
        "<a href=\"https://colab.research.google.com/github/JackPerry0/Neural-Networks/blob/main/Maximizing_Generalization.ipynb\" target=\"_parent\"><img src=\"https://colab.research.google.com/assets/colab-badge.svg\" alt=\"Open In Colab\"/></a>"
      ]
    },
    {
      "cell_type": "markdown",
      "metadata": {
        "id": "NhwGzlKoSN5B"
      },
      "source": [
        "Summary:\n",
        "\n",
        "The purpose of a machine learning model is ot generalize to perform accurately on never-before-seen inputs.\n",
        "\n",
        "How? *interpolate* between training samples.\n",
        "\n",
        "Fundamental problem: optimization vs. generalization\n",
        "\n",
        "* Get more training data, or better training data.\n",
        "* Develop better features.\n",
        "* Reduce the capacity of the model\n",
        "* Add weight regularization (for smaller models).\n",
        "* Add dropout."
      ]
    },
    {
      "cell_type": "code",
      "execution_count": null,
      "metadata": {
        "id": "ylFelrh1T8jk"
      },
      "outputs": [],
      "source": [
        "from tensorflow.keras.datasets import mnist\n",
        "import numpy as np\n",
        "\n",
        "(train_images, train_labels), _ = mnist.load_data()\n",
        "train_images = train_images.reshape((60000, 28*28))\n",
        "train_images = train_images.astype(\"float32\") / 255\n",
        "\n",
        "train_images_with_noise_channels = np.concatenate(\n",
        "    [train_images, np.random.random((len(train_images), 784))], axis = 1)\n",
        "\n",
        "train_images_with_zeros_channels = np.concatenate(\n",
        "    [train_images, np.zeros((len(train_images), 784))], axis = 1)\n"
      ]
    },
    {
      "cell_type": "markdown",
      "metadata": {
        "id": "2hcykwMnRCsq"
      },
      "source": [
        "White Noise vs. Zero Noise"
      ]
    },
    {
      "cell_type": "code",
      "execution_count": null,
      "metadata": {
        "colab": {
          "base_uri": "https://localhost:8080/"
        },
        "id": "GaVLmer7UpR_",
        "outputId": "7b2c18db-e0bc-42e5-f743-313a301211d4"
      },
      "outputs": [
        {
          "name": "stdout",
          "output_type": "stream",
          "text": [
            "Epoch 1/10\n",
            "375/375 [==============================] - 14s 35ms/step - loss: 0.6116 - accuracy: 0.8139 - val_loss: 0.3145 - val_accuracy: 0.8997\n",
            "Epoch 2/10\n",
            "375/375 [==============================] - 6s 15ms/step - loss: 0.2482 - accuracy: 0.9221 - val_loss: 0.1978 - val_accuracy: 0.9397\n",
            "Epoch 3/10\n",
            "375/375 [==============================] - 11s 30ms/step - loss: 0.1612 - accuracy: 0.9493 - val_loss: 0.1586 - val_accuracy: 0.9512\n",
            "Epoch 4/10\n",
            "375/375 [==============================] - 9s 23ms/step - loss: 0.1142 - accuracy: 0.9646 - val_loss: 0.1392 - val_accuracy: 0.9576\n",
            "Epoch 5/10\n",
            "375/375 [==============================] - 6s 17ms/step - loss: 0.0838 - accuracy: 0.9740 - val_loss: 0.1507 - val_accuracy: 0.9547\n",
            "Epoch 6/10\n",
            "375/375 [==============================] - 7s 20ms/step - loss: 0.0623 - accuracy: 0.9803 - val_loss: 0.1184 - val_accuracy: 0.9663\n",
            "Epoch 7/10\n",
            "375/375 [==============================] - 7s 18ms/step - loss: 0.0450 - accuracy: 0.9856 - val_loss: 0.1244 - val_accuracy: 0.9672\n",
            "Epoch 8/10\n",
            "375/375 [==============================] - 9s 23ms/step - loss: 0.0327 - accuracy: 0.9893 - val_loss: 0.1140 - val_accuracy: 0.9695\n",
            "Epoch 9/10\n",
            "375/375 [==============================] - 6s 17ms/step - loss: 0.0232 - accuracy: 0.9927 - val_loss: 0.3394 - val_accuracy: 0.9196\n",
            "Epoch 10/10\n",
            "375/375 [==============================] - 8s 22ms/step - loss: 0.0192 - accuracy: 0.9942 - val_loss: 0.1160 - val_accuracy: 0.9706\n",
            "Epoch 1/10\n",
            "375/375 [==============================] - 9s 22ms/step - loss: 0.2958 - accuracy: 0.9152 - val_loss: 0.1594 - val_accuracy: 0.9548\n",
            "Epoch 2/10\n",
            "375/375 [==============================] - 8s 21ms/step - loss: 0.1228 - accuracy: 0.9644 - val_loss: 0.1110 - val_accuracy: 0.9671\n",
            "Epoch 3/10\n",
            "375/375 [==============================] - 10s 26ms/step - loss: 0.0806 - accuracy: 0.9759 - val_loss: 0.0917 - val_accuracy: 0.9726\n",
            "Epoch 4/10\n",
            "375/375 [==============================] - 10s 27ms/step - loss: 0.0592 - accuracy: 0.9825 - val_loss: 0.0824 - val_accuracy: 0.9765\n",
            "Epoch 5/10\n",
            "375/375 [==============================] - 11s 30ms/step - loss: 0.0439 - accuracy: 0.9871 - val_loss: 0.0725 - val_accuracy: 0.9792\n",
            "Epoch 6/10\n",
            "375/375 [==============================] - 7s 19ms/step - loss: 0.0337 - accuracy: 0.9903 - val_loss: 0.0810 - val_accuracy: 0.9758\n",
            "Epoch 7/10\n",
            "375/375 [==============================] - 8s 20ms/step - loss: 0.0252 - accuracy: 0.9927 - val_loss: 0.0712 - val_accuracy: 0.9793\n",
            "Epoch 8/10\n",
            "375/375 [==============================] - 8s 22ms/step - loss: 0.0189 - accuracy: 0.9950 - val_loss: 0.0739 - val_accuracy: 0.9786\n",
            "Epoch 9/10\n",
            "375/375 [==============================] - 6s 17ms/step - loss: 0.0143 - accuracy: 0.9962 - val_loss: 0.0736 - val_accuracy: 0.9805\n",
            "Epoch 10/10\n",
            "375/375 [==============================] - 7s 19ms/step - loss: 0.0106 - accuracy: 0.9975 - val_loss: 0.0792 - val_accuracy: 0.9802\n"
          ]
        }
      ],
      "source": [
        "from tensorflow import keras\n",
        "from tensorflow.keras import layers\n",
        "\n",
        "def get_model():\n",
        "  model = keras.Sequential([\n",
        "      layers.Dense(512, activation=\"relu\"),\n",
        "      layers.Dense(10, activation=\"softmax\")\n",
        "  ])\n",
        "\n",
        "  model.compile(optimizer=\"rmsprop\",\n",
        "                loss = \"sparse_categorical_crossentropy\",\n",
        "                metrics = [\"accuracy\"])\n",
        "  return model\n",
        "\n",
        "model = get_model()\n",
        "history_noise = model.fit(\n",
        "    train_images_with_noise_channels, train_labels,\n",
        "    epochs=10,\n",
        "    batch_size=128,\n",
        "    validation_split=0.2\n",
        ")\n",
        "\n",
        "model = get_model()\n",
        "history_zeros = model.fit(\n",
        "    train_images_with_zeros_channels, train_labels,\n",
        "    epochs = 10,\n",
        "    batch_size = 128,\n",
        "    validation_split=0.2\n",
        ")"
      ]
    },
    {
      "cell_type": "code",
      "execution_count": null,
      "metadata": {
        "colab": {
          "base_uri": "https://localhost:8080/",
          "height": 489
        },
        "id": "kUOdOuNvV2Dd",
        "outputId": "e030a64b-ea13-4e71-e24e-25c1411bec54"
      },
      "outputs": [
        {
          "data": {
            "text/plain": [
              "<matplotlib.legend.Legend at 0x79be8518b970>"
            ]
          },
          "execution_count": 15,
          "metadata": {},
          "output_type": "execute_result"
        },
        {
          "data": {
            "image/png": "[encoded data removed]",
            "text/plain": [
              "<Figure size 640x480 with 1 Axes>"
            ]
          },
          "metadata": {},
          "output_type": "display_data"
        }
      ],
      "source": [
        "import matplotlib.pyplot as plt\n",
        "val_acc_noise = history_noise.history[\"val_accuracy\"]\n",
        "val_acc_zeros = history_zeros.history[\"val_accuracy\"]\n",
        "epochs = range(1, 11)\n",
        "plt.plot(epochs, val_acc_noise, \"b-\",\n",
        "         label=\"Validation accuracy with noise channels\")\n",
        "plt.plot(epochs, val_acc_zeros, \"b--\",\n",
        "         label=\"Validation accuracy with zeros channels\")\n",
        "plt.title(\"Effect of noise channels on validation accuracy\")\n",
        "plt.xlabel(\"Epochs\")\n",
        "plt.ylabel(\"Accuracy\")\n",
        "plt.legend()"
      ]
    },
    {
      "cell_type": "code",
      "execution_count": null,
      "metadata": {
        "colab": {
          "base_uri": "https://localhost:8080/"
        },
        "id": "k-JBJDyWXg_B",
        "outputId": "f6a4a88d-0e3b-43cc-cb9e-6bf85400b67b"
      },
      "outputs": [
        {
          "name": "stdout",
          "output_type": "stream",
          "text": [
            "Epoch 1/100\n",
            "375/375 [==============================] - 5s 11ms/step - loss: 2.3134 - accuracy: 0.1076 - val_loss: 2.3038 - val_accuracy: 0.1043\n",
            "Epoch 2/100\n",
            "375/375 [==============================] - 4s 11ms/step - loss: 2.2991 - accuracy: 0.1170 - val_loss: 2.3107 - val_accuracy: 0.1028\n",
            "Epoch 3/100\n",
            "375/375 [==============================] - 5s 14ms/step - loss: 2.2912 - accuracy: 0.1273 - val_loss: 2.3181 - val_accuracy: 0.1016\n",
            "Epoch 4/100\n",
            "375/375 [==============================] - 3s 9ms/step - loss: 2.2790 - accuracy: 0.1373 - val_loss: 2.3266 - val_accuracy: 0.1050\n",
            "Epoch 5/100\n",
            "375/375 [==============================] - 3s 8ms/step - loss: 2.2637 - accuracy: 0.1508 - val_loss: 2.3334 - val_accuracy: 0.1034\n",
            "Epoch 6/100\n",
            "375/375 [==============================] - 6s 16ms/step - loss: 2.2444 - accuracy: 0.1641 - val_loss: 2.3467 - val_accuracy: 0.1015\n",
            "Epoch 7/100\n",
            "375/375 [==============================] - 5s 14ms/step - loss: 2.2202 - accuracy: 0.1784 - val_loss: 2.3586 - val_accuracy: 0.1019\n",
            "Epoch 8/100\n",
            "375/375 [==============================] - 5s 12ms/step - loss: 2.1945 - accuracy: 0.1927 - val_loss: 2.3769 - val_accuracy: 0.0959\n",
            "Epoch 9/100\n",
            "375/375 [==============================] - 6s 15ms/step - loss: 2.1638 - accuracy: 0.2132 - val_loss: 2.3934 - val_accuracy: 0.1037\n",
            "Epoch 10/100\n",
            "375/375 [==============================] - 4s 10ms/step - loss: 2.1330 - accuracy: 0.2277 - val_loss: 2.4248 - val_accuracy: 0.1008\n",
            "Epoch 11/100\n",
            "375/375 [==============================] - 3s 9ms/step - loss: 2.0970 - accuracy: 0.2449 - val_loss: 2.4378 - val_accuracy: 0.0992\n",
            "Epoch 12/100\n",
            "375/375 [==============================] - 4s 10ms/step - loss: 2.0614 - accuracy: 0.2612 - val_loss: 2.4743 - val_accuracy: 0.0964\n",
            "Epoch 13/100\n",
            "375/375 [==============================] - 4s 10ms/step - loss: 2.0225 - accuracy: 0.2806 - val_loss: 2.5049 - val_accuracy: 0.1005\n",
            "Epoch 14/100\n",
            "375/375 [==============================] - 3s 8ms/step - loss: 1.9863 - accuracy: 0.2962 - val_loss: 2.5242 - val_accuracy: 0.0997\n",
            "Epoch 15/100\n",
            "375/375 [==============================] - 3s 9ms/step - loss: 1.9465 - accuracy: 0.3135 - val_loss: 2.5611 - val_accuracy: 0.1022\n",
            "Epoch 16/100\n",
            "375/375 [==============================] - 4s 11ms/step - loss: 1.9066 - accuracy: 0.3277 - val_loss: 2.5948 - val_accuracy: 0.1013\n",
            "Epoch 17/100\n",
            "375/375 [==============================] - 4s 10ms/step - loss: 1.8662 - accuracy: 0.3477 - val_loss: 2.6361 - val_accuracy: 0.0997\n",
            "Epoch 18/100\n",
            "375/375 [==============================] - 3s 8ms/step - loss: 1.8258 - accuracy: 0.3620 - val_loss: 2.6542 - val_accuracy: 0.0973\n",
            "Epoch 19/100\n",
            "375/375 [==============================] - 3s 9ms/step - loss: 1.7888 - accuracy: 0.3775 - val_loss: 2.6987 - val_accuracy: 0.1009\n",
            "Epoch 20/100\n",
            "375/375 [==============================] - 4s 12ms/step - loss: 1.7485 - accuracy: 0.3920 - val_loss: 2.7453 - val_accuracy: 0.0985\n",
            "Epoch 21/100\n",
            "375/375 [==============================] - 3s 9ms/step - loss: 1.7124 - accuracy: 0.4050 - val_loss: 2.7811 - val_accuracy: 0.0958\n",
            "Epoch 22/100\n",
            "375/375 [==============================] - 4s 10ms/step - loss: 1.6749 - accuracy: 0.4225 - val_loss: 2.8253 - val_accuracy: 0.0985\n",
            "Epoch 23/100\n",
            "375/375 [==============================] - 3s 9ms/step - loss: 1.6381 - accuracy: 0.4387 - val_loss: 2.8876 - val_accuracy: 0.0988\n",
            "Epoch 24/100\n",
            "375/375 [==============================] - 5s 12ms/step - loss: 1.6000 - accuracy: 0.4503 - val_loss: 2.9345 - val_accuracy: 0.0990\n",
            "Epoch 25/100\n",
            "375/375 [==============================] - 3s 9ms/step - loss: 1.5644 - accuracy: 0.4635 - val_loss: 2.9607 - val_accuracy: 0.0959\n",
            "Epoch 26/100\n",
            "375/375 [==============================] - 3s 9ms/step - loss: 1.5331 - accuracy: 0.4754 - val_loss: 3.0201 - val_accuracy: 0.0990\n",
            "Epoch 27/100\n",
            "375/375 [==============================] - 4s 9ms/step - loss: 1.4989 - accuracy: 0.4877 - val_loss: 3.0609 - val_accuracy: 0.1002\n",
            "Epoch 28/100\n",
            "375/375 [==============================] - 4s 11ms/step - loss: 1.4653 - accuracy: 0.5010 - val_loss: 3.1211 - val_accuracy: 0.1025\n",
            "Epoch 29/100\n",
            "375/375 [==============================] - 3s 9ms/step - loss: 1.4335 - accuracy: 0.5123 - val_loss: 3.1550 - val_accuracy: 0.0984\n",
            "Epoch 30/100\n",
            "375/375 [==============================] - 3s 9ms/step - loss: 1.4025 - accuracy: 0.5240 - val_loss: 3.2098 - val_accuracy: 0.0988\n",
            "Epoch 31/100\n",
            "375/375 [==============================] - 4s 10ms/step - loss: 1.3718 - accuracy: 0.5388 - val_loss: 3.2762 - val_accuracy: 0.0993\n",
            "Epoch 32/100\n",
            "375/375 [==============================] - 4s 11ms/step - loss: 1.3429 - accuracy: 0.5451 - val_loss: 3.3332 - val_accuracy: 0.1019\n",
            "Epoch 33/100\n",
            "375/375 [==============================] - 3s 9ms/step - loss: 1.3144 - accuracy: 0.5545 - val_loss: 3.3945 - val_accuracy: 0.1032\n",
            "Epoch 34/100\n",
            "375/375 [==============================] - 3s 9ms/step - loss: 1.2866 - accuracy: 0.5663 - val_loss: 3.4528 - val_accuracy: 0.0949\n",
            "Epoch 35/100\n",
            "375/375 [==============================] - 4s 11ms/step - loss: 1.2592 - accuracy: 0.5757 - val_loss: 3.5179 - val_accuracy: 0.0970\n",
            "Epoch 36/100\n",
            "375/375 [==============================] - 4s 10ms/step - loss: 1.2290 - accuracy: 0.5871 - val_loss: 3.5523 - val_accuracy: 0.1014\n",
            "Epoch 37/100\n",
            "375/375 [==============================] - 4s 9ms/step - loss: 1.2063 - accuracy: 0.5948 - val_loss: 3.6036 - val_accuracy: 0.0997\n",
            "Epoch 38/100\n",
            "375/375 [==============================] - 3s 8ms/step - loss: 1.1825 - accuracy: 0.6015 - val_loss: 3.6593 - val_accuracy: 0.0981\n",
            "Epoch 39/100\n",
            "375/375 [==============================] - 5s 12ms/step - loss: 1.1560 - accuracy: 0.6128 - val_loss: 3.7005 - val_accuracy: 0.1007\n",
            "Epoch 40/100\n",
            "375/375 [==============================] - 3s 9ms/step - loss: 1.1329 - accuracy: 0.6207 - val_loss: 3.7792 - val_accuracy: 0.0993\n",
            "Epoch 41/100\n",
            "375/375 [==============================] - 3s 9ms/step - loss: 1.1077 - accuracy: 0.6285 - val_loss: 3.8359 - val_accuracy: 0.0993\n",
            "Epoch 42/100\n",
            "375/375 [==============================] - 3s 8ms/step - loss: 1.0848 - accuracy: 0.6384 - val_loss: 3.9033 - val_accuracy: 0.0950\n",
            "Epoch 43/100\n",
            "375/375 [==============================] - 5s 12ms/step - loss: 1.0640 - accuracy: 0.6431 - val_loss: 3.9927 - val_accuracy: 0.1018\n",
            "Epoch 44/100\n",
            "375/375 [==============================] - 3s 8ms/step - loss: 1.0390 - accuracy: 0.6551 - val_loss: 4.0506 - val_accuracy: 0.1031\n",
            "Epoch 45/100\n",
            "375/375 [==============================] - 3s 8ms/step - loss: 1.0182 - accuracy: 0.6608 - val_loss: 4.0930 - val_accuracy: 0.0996\n",
            "Epoch 46/100\n",
            "375/375 [==============================] - 4s 9ms/step - loss: 1.0011 - accuracy: 0.6671 - val_loss: 4.1264 - val_accuracy: 0.1021\n",
            "Epoch 47/100\n",
            "375/375 [==============================] - 4s 11ms/step - loss: 0.9793 - accuracy: 0.6761 - val_loss: 4.1672 - val_accuracy: 0.1012\n",
            "Epoch 48/100\n",
            "375/375 [==============================] - 3s 9ms/step - loss: 0.9598 - accuracy: 0.6815 - val_loss: 4.2754 - val_accuracy: 0.1019\n",
            "Epoch 49/100\n",
            "375/375 [==============================] - 3s 8ms/step - loss: 0.9397 - accuracy: 0.6888 - val_loss: 4.3604 - val_accuracy: 0.0973\n",
            "Epoch 50/100\n",
            "375/375 [==============================] - 4s 10ms/step - loss: 0.9203 - accuracy: 0.6976 - val_loss: 4.3742 - val_accuracy: 0.0990\n",
            "Epoch 51/100\n",
            "375/375 [==============================] - 4s 11ms/step - loss: 0.9022 - accuracy: 0.7040 - val_loss: 4.4772 - val_accuracy: 0.0988\n",
            "Epoch 52/100\n",
            "375/375 [==============================] - 3s 9ms/step - loss: 0.8855 - accuracy: 0.7088 - val_loss: 4.5396 - val_accuracy: 0.1018\n",
            "Epoch 53/100\n",
            "375/375 [==============================] - 3s 8ms/step - loss: 0.8647 - accuracy: 0.7170 - val_loss: 4.6135 - val_accuracy: 0.0995\n",
            "Epoch 54/100\n",
            "375/375 [==============================] - 4s 11ms/step - loss: 0.8481 - accuracy: 0.7209 - val_loss: 4.6771 - val_accuracy: 0.1007\n",
            "Epoch 55/100\n",
            "375/375 [==============================] - 4s 10ms/step - loss: 0.8317 - accuracy: 0.7265 - val_loss: 4.7109 - val_accuracy: 0.1004\n",
            "Epoch 56/100\n",
            "375/375 [==============================] - 3s 8ms/step - loss: 0.8171 - accuracy: 0.7312 - val_loss: 4.7688 - val_accuracy: 0.1032\n",
            "Epoch 57/100\n",
            "375/375 [==============================] - 3s 8ms/step - loss: 0.8003 - accuracy: 0.7387 - val_loss: 4.8050 - val_accuracy: 0.1018\n",
            "Epoch 58/100\n",
            "375/375 [==============================] - 4s 12ms/step - loss: 0.7817 - accuracy: 0.7457 - val_loss: 4.9494 - val_accuracy: 0.1023\n",
            "Epoch 59/100\n",
            "375/375 [==============================] - 3s 9ms/step - loss: 0.7663 - accuracy: 0.7503 - val_loss: 5.0220 - val_accuracy: 0.0993\n",
            "Epoch 60/100\n",
            "375/375 [==============================] - 3s 8ms/step - loss: 0.7514 - accuracy: 0.7539 - val_loss: 5.0845 - val_accuracy: 0.1010\n",
            "Epoch 61/100\n",
            "375/375 [==============================] - 3s 9ms/step - loss: 0.7364 - accuracy: 0.7612 - val_loss: 5.1523 - val_accuracy: 0.1017\n",
            "Epoch 62/100\n",
            "375/375 [==============================] - 4s 12ms/step - loss: 0.7224 - accuracy: 0.7643 - val_loss: 5.1976 - val_accuracy: 0.1013\n",
            "Epoch 63/100\n",
            "375/375 [==============================] - 3s 9ms/step - loss: 0.7083 - accuracy: 0.7695 - val_loss: 5.2664 - val_accuracy: 0.1009\n",
            "Epoch 64/100\n",
            "375/375 [==============================] - 3s 9ms/step - loss: 0.6944 - accuracy: 0.7748 - val_loss: 5.3079 - val_accuracy: 0.0995\n",
            "Epoch 65/100\n",
            "375/375 [==============================] - 3s 9ms/step - loss: 0.6801 - accuracy: 0.7802 - val_loss: 5.4176 - val_accuracy: 0.1050\n",
            "Epoch 66/100\n",
            "375/375 [==============================] - 4s 10ms/step - loss: 0.6696 - accuracy: 0.7829 - val_loss: 5.4991 - val_accuracy: 0.1001\n",
            "Epoch 67/100\n",
            "375/375 [==============================] - 4s 9ms/step - loss: 0.6543 - accuracy: 0.7871 - val_loss: 5.5820 - val_accuracy: 0.1061\n",
            "Epoch 68/100\n",
            "375/375 [==============================] - 3s 9ms/step - loss: 0.6425 - accuracy: 0.7943 - val_loss: 5.6240 - val_accuracy: 0.1024\n",
            "Epoch 69/100\n",
            "375/375 [==============================] - 4s 12ms/step - loss: 0.6279 - accuracy: 0.7970 - val_loss: 5.6898 - val_accuracy: 0.1002\n",
            "Epoch 70/100\n",
            "375/375 [==============================] - 3s 9ms/step - loss: 0.6189 - accuracy: 0.8020 - val_loss: 5.7674 - val_accuracy: 0.1001\n",
            "Epoch 71/100\n",
            "375/375 [==============================] - 3s 9ms/step - loss: 0.6034 - accuracy: 0.8071 - val_loss: 5.8861 - val_accuracy: 0.1031\n",
            "Epoch 72/100\n",
            "375/375 [==============================] - 3s 9ms/step - loss: 0.5937 - accuracy: 0.8101 - val_loss: 5.8989 - val_accuracy: 0.1001\n",
            "Epoch 73/100\n",
            "375/375 [==============================] - 5s 12ms/step - loss: 0.5817 - accuracy: 0.8133 - val_loss: 5.9737 - val_accuracy: 0.1047\n",
            "Epoch 74/100\n",
            "375/375 [==============================] - 3s 8ms/step - loss: 0.5694 - accuracy: 0.8189 - val_loss: 6.0666 - val_accuracy: 0.0997\n",
            "Epoch 75/100\n",
            "375/375 [==============================] - 3s 9ms/step - loss: 0.5573 - accuracy: 0.8225 - val_loss: 6.1346 - val_accuracy: 0.1019\n",
            "Epoch 76/100\n",
            "375/375 [==============================] - 3s 9ms/step - loss: 0.5484 - accuracy: 0.8248 - val_loss: 6.2215 - val_accuracy: 0.1043\n",
            "Epoch 77/100\n",
            "375/375 [==============================] - 5s 12ms/step - loss: 0.5405 - accuracy: 0.8284 - val_loss: 6.2800 - val_accuracy: 0.1008\n",
            "Epoch 78/100\n",
            "375/375 [==============================] - 3s 9ms/step - loss: 0.5264 - accuracy: 0.8342 - val_loss: 6.3316 - val_accuracy: 0.1023\n",
            "Epoch 79/100\n",
            "375/375 [==============================] - 3s 8ms/step - loss: 0.5180 - accuracy: 0.8349 - val_loss: 6.4550 - val_accuracy: 0.0987\n",
            "Epoch 80/100\n",
            "375/375 [==============================] - 3s 9ms/step - loss: 0.5081 - accuracy: 0.8379 - val_loss: 6.5123 - val_accuracy: 0.1001\n",
            "Epoch 81/100\n",
            "375/375 [==============================] - 4s 12ms/step - loss: 0.4987 - accuracy: 0.8432 - val_loss: 6.6374 - val_accuracy: 0.0998\n",
            "Epoch 82/100\n",
            "375/375 [==============================] - 3s 9ms/step - loss: 0.4892 - accuracy: 0.8459 - val_loss: 6.6643 - val_accuracy: 0.1028\n",
            "Epoch 83/100\n",
            "375/375 [==============================] - 3s 8ms/step - loss: 0.4823 - accuracy: 0.8478 - val_loss: 6.7497 - val_accuracy: 0.1003\n",
            "Epoch 84/100\n",
            "375/375 [==============================] - 4s 10ms/step - loss: 0.4711 - accuracy: 0.8492 - val_loss: 6.8223 - val_accuracy: 0.1055\n",
            "Epoch 85/100\n",
            "375/375 [==============================] - 4s 11ms/step - loss: 0.4631 - accuracy: 0.8545 - val_loss: 6.9130 - val_accuracy: 0.1007\n",
            "Epoch 86/100\n",
            "375/375 [==============================] - 3s 8ms/step - loss: 0.4526 - accuracy: 0.8579 - val_loss: 6.9741 - val_accuracy: 0.0983\n",
            "Epoch 87/100\n",
            "375/375 [==============================] - 3s 8ms/step - loss: 0.4435 - accuracy: 0.8617 - val_loss: 7.0285 - val_accuracy: 0.0999\n",
            "Epoch 88/100\n",
            "375/375 [==============================] - 4s 11ms/step - loss: 0.4364 - accuracy: 0.8639 - val_loss: 7.0862 - val_accuracy: 0.1020\n",
            "Epoch 89/100\n",
            "375/375 [==============================] - 4s 10ms/step - loss: 0.4298 - accuracy: 0.8665 - val_loss: 7.1527 - val_accuracy: 0.1005\n",
            "Epoch 90/100\n",
            "375/375 [==============================] - 3s 9ms/step - loss: 0.4213 - accuracy: 0.8680 - val_loss: 7.2675 - val_accuracy: 0.1017\n",
            "Epoch 91/100\n",
            "375/375 [==============================] - 3s 8ms/step - loss: 0.4139 - accuracy: 0.8719 - val_loss: 7.3743 - val_accuracy: 0.1036\n",
            "Epoch 92/100\n",
            "375/375 [==============================] - 4s 11ms/step - loss: 0.4049 - accuracy: 0.8750 - val_loss: 7.3809 - val_accuracy: 0.1029\n",
            "Epoch 93/100\n",
            "375/375 [==============================] - 4s 9ms/step - loss: 0.3990 - accuracy: 0.8764 - val_loss: 7.5358 - val_accuracy: 0.1051\n",
            "Epoch 94/100\n",
            "375/375 [==============================] - 3s 8ms/step - loss: 0.3908 - accuracy: 0.8788 - val_loss: 7.5621 - val_accuracy: 0.1046\n",
            "Epoch 95/100\n",
            "236/375 [=================>............] - ETA: 1s - loss: 0.3749 - accuracy: 0.8838"
          ]
        }
      ],
      "source": [
        "(train_images, train_labels), _ = mnist.load_data()\n",
        "train_images = train_images.reshape((60000, 28 * 28))\n",
        "train_images = train_images.astype(\"float32\") / 255\n",
        "\n",
        "random_train_labels = train_labels[:]\n",
        "np.random.shuffle(random_train_labels)\n",
        "\n",
        "model = keras.Sequential([\n",
        "    layers.Dense(512, activation=\"relu\"),\n",
        "    layers.Dense(10, activation=\"softmax\")\n",
        "])\n",
        "model.compile(optimizer=\"rmsprop\",\n",
        "              loss=\"sparse_categorical_crossentropy\",\n",
        "              metrics=[\"accuracy\"])\n",
        "model.fit(train_images, random_train_labels,\n",
        "          epochs=100,\n",
        "          batch_size=128,\n",
        "          validation_split=0.2)"
      ]
    },
    {
      "cell_type": "markdown",
      "metadata": {
        "id": "-k_91_JuRLBm"
      },
      "source": [
        "Changing Memorization Capacity (high vs low capacity)."
      ]
    },
    {
      "cell_type": "code",
      "execution_count": null,
      "metadata": {
        "colab": {
          "background_save": true
        },
        "id": "NJAmYCvERVlp",
        "outputId": "ec05650a-6703-48f8-e3f7-eff889047300"
      },
      "outputs": [
        {
          "name": "stdout",
          "output_type": "stream",
          "text": [
            "Downloading data from https://storage.googleapis.com/tensorflow/tf-keras-datasets/imdb.npz\n",
            "17464789/17464789 [==============================] - 0s 0us/step\n",
            "Epoch 1/20\n",
            "49/49 [==============================] - 2s 27ms/step - loss: 0.4909 - accuracy: 0.8133\n",
            "Epoch 2/20\n",
            "49/49 [==============================] - 1s 22ms/step - loss: 0.2961 - accuracy: 0.8990\n",
            "Epoch 3/20\n",
            "49/49 [==============================] - 1s 22ms/step - loss: 0.2313 - accuracy: 0.9173\n",
            "Epoch 4/20\n",
            "49/49 [==============================] - 1s 21ms/step - loss: 0.1962 - accuracy: 0.9310\n",
            "Epoch 5/20\n",
            "49/49 [==============================] - 1s 21ms/step - loss: 0.1726 - accuracy: 0.9391\n",
            "Epoch 6/20\n",
            "49/49 [==============================] - 1s 21ms/step - loss: 0.1573 - accuracy: 0.9438\n",
            "Epoch 7/20\n",
            "49/49 [==============================] - 1s 22ms/step - loss: 0.1413 - accuracy: 0.9502\n",
            "Epoch 8/20\n",
            "49/49 [==============================] - 1s 21ms/step - loss: 0.1294 - accuracy: 0.9557\n",
            "Epoch 9/20\n",
            "49/49 [==============================] - 2s 33ms/step - loss: 0.1192 - accuracy: 0.9601\n",
            "Epoch 10/20\n",
            "49/49 [==============================] - 1s 27ms/step - loss: 0.1088 - accuracy: 0.9643\n",
            "Epoch 11/20\n",
            "49/49 [==============================] - 1s 22ms/step - loss: 0.1008 - accuracy: 0.9664\n",
            "Epoch 12/20\n",
            "49/49 [==============================] - 1s 21ms/step - loss: 0.0923 - accuracy: 0.9700\n",
            "Epoch 13/20\n",
            "49/49 [==============================] - 1s 22ms/step - loss: 0.0853 - accuracy: 0.9722\n",
            "Epoch 14/20\n",
            "49/49 [==============================] - 1s 22ms/step - loss: 0.0801 - accuracy: 0.9742\n",
            "Epoch 15/20\n",
            "49/49 [==============================] - 1s 21ms/step - loss: 0.0725 - accuracy: 0.9778\n",
            "Epoch 16/20\n",
            "49/49 [==============================] - 1s 22ms/step - loss: 0.0670 - accuracy: 0.9793\n",
            "Epoch 17/20\n",
            "49/49 [==============================] - 1s 21ms/step - loss: 0.0628 - accuracy: 0.9809\n",
            "Epoch 18/20\n",
            "49/49 [==============================] - 1s 22ms/step - loss: 0.0562 - accuracy: 0.9836\n",
            "Epoch 19/20\n",
            "49/49 [==============================] - 1s 25ms/step - loss: 0.0512 - accuracy: 0.9852\n",
            "Epoch 20/20\n",
            "49/49 [==============================] - 2s 33ms/step - loss: 0.0464 - accuracy: 0.9874\n",
            "Epoch 1/20\n",
            "30/30 [==============================] - 2s 61ms/step - loss: 0.6116 - accuracy: 0.7325 - val_loss: 0.5207 - val_accuracy: 0.8109\n",
            "Epoch 2/20\n",
            "30/30 [==============================] - 1s 50ms/step - loss: 0.4568 - accuracy: 0.8768 - val_loss: 0.4202 - val_accuracy: 0.8772\n",
            "Epoch 3/20\n",
            "30/30 [==============================] - 1s 39ms/step - loss: 0.3623 - accuracy: 0.9045 - val_loss: 0.3584 - val_accuracy: 0.8831\n",
            "Epoch 4/20\n",
            "30/30 [==============================] - 1s 30ms/step - loss: 0.2974 - accuracy: 0.9185 - val_loss: 0.3197 - val_accuracy: 0.8897\n",
            "Epoch 5/20\n",
            "30/30 [==============================] - 1s 29ms/step - loss: 0.2536 - accuracy: 0.9287 - val_loss: 0.2972 - val_accuracy: 0.8898\n",
            "Epoch 6/20\n",
            "30/30 [==============================] - 1s 28ms/step - loss: 0.2211 - accuracy: 0.9357 - val_loss: 0.2840 - val_accuracy: 0.8927\n",
            "Epoch 7/20\n",
            "30/30 [==============================] - 1s 28ms/step - loss: 0.1960 - accuracy: 0.9427 - val_loss: 0.2777 - val_accuracy: 0.8933\n",
            "Epoch 8/20\n",
            "30/30 [==============================] - 1s 27ms/step - loss: 0.1750 - accuracy: 0.9506 - val_loss: 0.2736 - val_accuracy: 0.8923\n",
            "Epoch 9/20\n",
            "30/30 [==============================] - 1s 29ms/step - loss: 0.1580 - accuracy: 0.9537 - val_loss: 0.2739 - val_accuracy: 0.8914\n",
            "Epoch 10/20\n",
            "30/30 [==============================] - 1s 28ms/step - loss: 0.1427 - accuracy: 0.9590 - val_loss: 0.2847 - val_accuracy: 0.8878\n",
            "Epoch 11/20\n",
            "30/30 [==============================] - 1s 31ms/step - loss: 0.1296 - accuracy: 0.9639 - val_loss: 0.2813 - val_accuracy: 0.8877\n",
            "Epoch 12/20\n",
            "30/30 [==============================] - 1s 30ms/step - loss: 0.1178 - accuracy: 0.9679 - val_loss: 0.2849 - val_accuracy: 0.8889\n",
            "Epoch 13/20\n",
            "30/30 [==============================] - 1s 31ms/step - loss: 0.1079 - accuracy: 0.9725 - val_loss: 0.2964 - val_accuracy: 0.8875\n",
            "Epoch 14/20\n",
            "30/30 [==============================] - 1s 27ms/step - loss: 0.0985 - accuracy: 0.9739 - val_loss: 0.3064 - val_accuracy: 0.8818\n",
            "Epoch 15/20\n",
            "30/30 [==============================] - 1s 50ms/step - loss: 0.0898 - accuracy: 0.9774 - val_loss: 0.3167 - val_accuracy: 0.8833\n",
            "Epoch 16/20\n",
            "30/30 [==============================] - 1s 36ms/step - loss: 0.0831 - accuracy: 0.9793 - val_loss: 0.3168 - val_accuracy: 0.8837\n",
            "Epoch 17/20\n",
            "30/30 [==============================] - 1s 27ms/step - loss: 0.0751 - accuracy: 0.9825 - val_loss: 0.3306 - val_accuracy: 0.8810\n",
            "Epoch 18/20\n",
            "30/30 [==============================] - 1s 29ms/step - loss: 0.0694 - accuracy: 0.9843 - val_loss: 0.3388 - val_accuracy: 0.8814\n",
            "Epoch 19/20\n",
            "30/30 [==============================] - 1s 31ms/step - loss: 0.0626 - accuracy: 0.9868 - val_loss: 0.3510 - val_accuracy: 0.8805\n",
            "Epoch 20/20\n",
            "30/30 [==============================] - 1s 27ms/step - loss: 0.0576 - accuracy: 0.9876 - val_loss: 0.3628 - val_accuracy: 0.8798\n",
            "Epoch 1/20\n",
            "30/30 [==============================] - 11s 360ms/step - loss: 0.5593 - accuracy: 0.7504 - val_loss: 0.3320 - val_accuracy: 0.8688\n",
            "Epoch 2/20\n",
            "30/30 [==============================] - 9s 290ms/step - loss: 0.3301 - accuracy: 0.8659 - val_loss: 0.3226 - val_accuracy: 0.8619\n",
            "Epoch 3/20\n",
            "30/30 [==============================] - 8s 260ms/step - loss: 0.2449 - accuracy: 0.8986 - val_loss: 0.2729 - val_accuracy: 0.8884\n",
            "Epoch 4/20\n",
            "30/30 [==============================] - 9s 315ms/step - loss: 0.1917 - accuracy: 0.9257 - val_loss: 0.2783 - val_accuracy: 0.8848\n",
            "Epoch 5/20\n",
            "30/30 [==============================] - 9s 309ms/step - loss: 0.1480 - accuracy: 0.9466 - val_loss: 0.2711 - val_accuracy: 0.8885\n",
            "Epoch 6/20\n",
            "30/30 [==============================] - 8s 286ms/step - loss: 0.0967 - accuracy: 0.9688 - val_loss: 0.3357 - val_accuracy: 0.8824\n",
            "Epoch 7/20\n",
            "30/30 [==============================] - 9s 303ms/step - loss: 0.0748 - accuracy: 0.9742 - val_loss: 0.5633 - val_accuracy: 0.8412\n",
            "Epoch 8/20\n",
            "30/30 [==============================] - 9s 316ms/step - loss: 0.0586 - accuracy: 0.9809 - val_loss: 0.4083 - val_accuracy: 0.8842\n",
            "Epoch 9/20\n",
            "30/30 [==============================] - 11s 378ms/step - loss: 0.0762 - accuracy: 0.9786 - val_loss: 0.4014 - val_accuracy: 0.8845\n",
            "Epoch 10/20\n",
            "30/30 [==============================] - 8s 284ms/step - loss: 0.0085 - accuracy: 0.9989 - val_loss: 0.7029 - val_accuracy: 0.8480\n",
            "Epoch 11/20\n",
            "30/30 [==============================] - 9s 290ms/step - loss: 0.0858 - accuracy: 0.9813 - val_loss: 0.4494 - val_accuracy: 0.8847\n",
            "Epoch 12/20\n",
            "30/30 [==============================] - 9s 315ms/step - loss: 0.0037 - accuracy: 0.9997 - val_loss: 0.5211 - val_accuracy: 0.8843\n",
            "Epoch 13/20\n",
            "30/30 [==============================] - 11s 388ms/step - loss: 0.0938 - accuracy: 0.9794 - val_loss: 0.4281 - val_accuracy: 0.8849\n",
            "Epoch 14/20\n",
            "30/30 [==============================] - 9s 288ms/step - loss: 0.0036 - accuracy: 0.9999 - val_loss: 0.5053 - val_accuracy: 0.8859\n",
            "Epoch 15/20\n",
            "30/30 [==============================] - 9s 301ms/step - loss: 0.0016 - accuracy: 0.9999 - val_loss: 0.5770 - val_accuracy: 0.8849\n",
            "Epoch 16/20\n",
            "30/30 [==============================] - 9s 293ms/step - loss: 0.0863 - accuracy: 0.9825 - val_loss: 0.4542 - val_accuracy: 0.8813\n",
            "Epoch 17/20\n",
            "30/30 [==============================] - 9s 296ms/step - loss: 0.0023 - accuracy: 1.0000 - val_loss: 0.5271 - val_accuracy: 0.8833\n",
            "Epoch 18/20\n",
            "30/30 [==============================] - 8s 262ms/step - loss: 9.4461e-04 - accuracy: 1.0000 - val_loss: 0.6016 - val_accuracy: 0.8822\n",
            "Epoch 19/20\n",
            "30/30 [==============================] - 9s 318ms/step - loss: 5.4816e-04 - accuracy: 1.0000 - val_loss: 0.6529 - val_accuracy: 0.8813\n",
            "Epoch 20/20\n",
            "30/30 [==============================] - 9s 315ms/step - loss: 3.7697e-04 - accuracy: 1.0000 - val_loss: 0.6808 - val_accuracy: 0.8828\n"
          ]
        }
      ],
      "source": [
        "from tensorflow.keras.datasets import imdb\n",
        "(train_data, train_labels), _ = imdb.load_data(num_words=10000)\n",
        "\n",
        "def vectorize_sequences(sequences, dimension=10000):\n",
        "    results = np.zeros((len(sequences), dimension))\n",
        "    for i, sequence in enumerate(sequences):\n",
        "        results[i, sequence] = 1.\n",
        "    return results\n",
        "train_data = vectorize_sequences(train_data)\n",
        "\n",
        "model = keras.Sequential([\n",
        "    layers.Dense(16, activation=\"relu\"),\n",
        "    layers.Dense(16, activation=\"relu\"),\n",
        "    layers.Dense(1, activation=\"sigmoid\")\n",
        "])\n",
        "model.compile(optimizer=\"rmsprop\",\n",
        "              loss=\"binary_crossentropy\",\n",
        "              metrics=[\"accuracy\"])\n",
        "history_original = model.fit(train_data, train_labels,\n",
        "                             epochs=20, batch_size=512, validation_split=0)\n",
        "#lower capacity\n",
        "model = keras.Sequential([\n",
        "    layers.Dense(4, activation=\"relu\"),\n",
        "    layers.Dense(4, activation=\"relu\"),\n",
        "    layers.Dense(1, activation=\"sigmoid\")\n",
        "])\n",
        "model.compile(optimizer=\"rmsprop\",\n",
        "              loss=\"binary_crossentropy\",\n",
        "              metrics=[\"accuracy\"])\n",
        "history_smaller_model = model.fit(\n",
        "    train_data, train_labels,\n",
        "    epochs=20, batch_size=512, validation_split=0.4)\n",
        "\n",
        "#higher capicty\n",
        "\n",
        "model = keras.Sequential([\n",
        "    layers.Dense(512, activation=\"relu\"),\n",
        "    layers.Dense(512, activation=\"relu\"),\n",
        "    layers.Dense(1, activation=\"sigmoid\")\n",
        "])\n",
        "\n",
        "model.compile(optimizer=\"rmsprop\",\n",
        "              loss=\"binary_crossentropy\",\n",
        "              metrics=[\"accuracy\"])\n",
        "history_larger_model = model.fit(\n",
        "    train_data, train_labels,\n",
        "    epochs=20, batch_size=512, validation_split=0.4)\n",
        "\n"
      ]
    },
    {
      "cell_type": "markdown",
      "metadata": {
        "id": "8jbZA9kwRnFU"
      },
      "source": [
        "Regularization Implementation"
      ]
    },
    {
      "cell_type": "code",
      "execution_count": null,
      "metadata": {
        "colab": {
          "background_save": true
        },
        "id": "Wku9autnRrdi",
        "outputId": "8f9c546a-fb30-4f71-a6ae-36dd92dbe8d7"
      },
      "outputs": [
        {
          "name": "stdout",
          "output_type": "stream",
          "text": [
            "Epoch 1/20\n",
            "30/30 [==============================] - 2s 62ms/step - loss: 0.6033 - accuracy: 0.7775 - val_loss: 0.4702 - val_accuracy: 0.8709\n",
            "Epoch 2/20\n",
            "30/30 [==============================] - 1s 30ms/step - loss: 0.4057 - accuracy: 0.8895 - val_loss: 0.4361 - val_accuracy: 0.8534\n",
            "Epoch 3/20\n",
            "30/30 [==============================] - 1s 32ms/step - loss: 0.3380 - accuracy: 0.9117 - val_loss: 0.3741 - val_accuracy: 0.8858\n",
            "Epoch 4/20\n",
            "30/30 [==============================] - 1s 29ms/step - loss: 0.3015 - accuracy: 0.9233 - val_loss: 0.3914 - val_accuracy: 0.8727\n",
            "Epoch 5/20\n",
            "30/30 [==============================] - 1s 30ms/step - loss: 0.2843 - accuracy: 0.9309 - val_loss: 0.3637 - val_accuracy: 0.8857\n",
            "Epoch 6/20\n",
            "30/30 [==============================] - 1s 29ms/step - loss: 0.2659 - accuracy: 0.9381 - val_loss: 0.3665 - val_accuracy: 0.8849\n",
            "Epoch 7/20\n",
            "30/30 [==============================] - 1s 30ms/step - loss: 0.2573 - accuracy: 0.9392 - val_loss: 0.4148 - val_accuracy: 0.8673\n",
            "Epoch 8/20\n",
            "30/30 [==============================] - 1s 31ms/step - loss: 0.2451 - accuracy: 0.9450 - val_loss: 0.3903 - val_accuracy: 0.8771\n",
            "Epoch 9/20\n",
            "30/30 [==============================] - 1s 30ms/step - loss: 0.2408 - accuracy: 0.9479 - val_loss: 0.4993 - val_accuracy: 0.8429\n",
            "Epoch 10/20\n",
            "30/30 [==============================] - 1s 43ms/step - loss: 0.2341 - accuracy: 0.9495 - val_loss: 0.3808 - val_accuracy: 0.8811\n",
            "Epoch 11/20\n",
            "30/30 [==============================] - 2s 54ms/step - loss: 0.2295 - accuracy: 0.9494 - val_loss: 0.4010 - val_accuracy: 0.8764\n",
            "Epoch 12/20\n",
            "30/30 [==============================] - 2s 56ms/step - loss: 0.2306 - accuracy: 0.9485 - val_loss: 0.3924 - val_accuracy: 0.8808\n",
            "Epoch 13/20\n",
            "30/30 [==============================] - 1s 30ms/step - loss: 0.2222 - accuracy: 0.9547 - val_loss: 0.4245 - val_accuracy: 0.8723\n",
            "Epoch 14/20\n",
            "30/30 [==============================] - 1s 33ms/step - loss: 0.2191 - accuracy: 0.9551 - val_loss: 0.3970 - val_accuracy: 0.8795\n",
            "Epoch 15/20\n",
            "30/30 [==============================] - 1s 30ms/step - loss: 0.2160 - accuracy: 0.9553 - val_loss: 0.4047 - val_accuracy: 0.8785\n",
            "Epoch 16/20\n",
            "30/30 [==============================] - 1s 31ms/step - loss: 0.2142 - accuracy: 0.9587 - val_loss: 0.4097 - val_accuracy: 0.8769\n",
            "Epoch 17/20\n",
            "30/30 [==============================] - 1s 31ms/step - loss: 0.2123 - accuracy: 0.9567 - val_loss: 0.4177 - val_accuracy: 0.8762\n",
            "Epoch 18/20\n",
            "30/30 [==============================] - 1s 33ms/step - loss: 0.2145 - accuracy: 0.9545 - val_loss: 0.4122 - val_accuracy: 0.8779\n",
            "Epoch 19/20\n",
            "30/30 [==============================] - 1s 33ms/step - loss: 0.2066 - accuracy: 0.9611 - val_loss: 0.4164 - val_accuracy: 0.8758\n",
            "Epoch 20/20\n",
            "30/30 [==============================] - 1s 31ms/step - loss: 0.2099 - accuracy: 0.9578 - val_loss: 0.4360 - val_accuracy: 0.8724\n"
          ]
        }
      ],
      "source": [
        "from tensorflow.keras import regularizers\n",
        "model = keras.Sequential([\n",
        "    layers.Dense(16,\n",
        "                 kernel_regularizer=regularizers.l2(0.002),\n",
        "                 activation=\"relu\"),\n",
        "    layers.Dense(16,\n",
        "                 kernel_regularizer=regularizers.l2(0.002),\n",
        "                 activation=\"relu\"),\n",
        "    layers.Dense(1, activation=\"sigmoid\")\n",
        "])\n",
        "model.compile(optimizer=\"rmsprop\",\n",
        "              loss=\"binary_crossentropy\",\n",
        "              metrics=[\"accuracy\"])\n",
        "history_l2_reg = model.fit(\n",
        "    train_data, train_labels,\n",
        "    epochs=20, batch_size=512, validation_split=0.4)"
      ]
    },
    {
      "cell_type": "markdown",
      "metadata": {
        "id": "ybUHZXhkRttx"
      },
      "source": [
        "Built-In Regularization"
      ]
    },
    {
      "cell_type": "code",
      "execution_count": null,
      "metadata": {
        "colab": {
          "background_save": true
        },
        "id": "QwtRulhoRyAu",
        "outputId": "5ffd6df0-f068-41cd-f987-4a3d9ea50917"
      },
      "outputs": [
        {
          "data": {
            "text/plain": [
              "<keras.src.regularizers.L1L2 at 0x79be84f127a0>"
            ]
          },
          "execution_count": 19,
          "metadata": {},
          "output_type": "execute_result"
        }
      ],
      "source": [
        "from tensorflow.keras import regularizers\n",
        "regularizers.l1(0.001)\n",
        "regularizers.l1_l2(l1=0.001, l2=0.001)"
      ]
    },
    {
      "cell_type": "markdown",
      "metadata": {
        "id": "qDRHWz97RzUr"
      },
      "source": [
        "Dropout Implementation"
      ]
    },
    {
      "cell_type": "code",
      "execution_count": null,
      "metadata": {
        "colab": {
          "background_save": true
        },
        "id": "4buo9OZwR2dp",
        "outputId": "7ebe71ef-3986-4cb7-82f1-b7276bc47752"
      },
      "outputs": [
        {
          "name": "stdout",
          "output_type": "stream",
          "text": [
            "Epoch 1/20\n",
            "30/30 [==============================] - 3s 65ms/step - loss: 0.6230 - accuracy: 0.6507 - val_loss: 0.4961 - val_accuracy: 0.8269\n",
            "Epoch 2/20\n",
            "30/30 [==============================] - 2s 55ms/step - loss: 0.4830 - accuracy: 0.7893 - val_loss: 0.3716 - val_accuracy: 0.8740\n",
            "Epoch 3/20\n",
            "30/30 [==============================] - 1s 39ms/step - loss: 0.4027 - accuracy: 0.8425 - val_loss: 0.3326 - val_accuracy: 0.8765\n",
            "Epoch 4/20\n",
            "30/30 [==============================] - 1s 30ms/step - loss: 0.3453 - accuracy: 0.8749 - val_loss: 0.2941 - val_accuracy: 0.8821\n",
            "Epoch 5/20\n",
            "30/30 [==============================] - 1s 30ms/step - loss: 0.2999 - accuracy: 0.8985 - val_loss: 0.2845 - val_accuracy: 0.8810\n",
            "Epoch 6/20\n",
            "30/30 [==============================] - 1s 29ms/step - loss: 0.2592 - accuracy: 0.9161 - val_loss: 0.2826 - val_accuracy: 0.8916\n",
            "Epoch 7/20\n",
            "30/30 [==============================] - 1s 29ms/step - loss: 0.2262 - accuracy: 0.9271 - val_loss: 0.2770 - val_accuracy: 0.8903\n",
            "Epoch 8/20\n",
            "30/30 [==============================] - 1s 31ms/step - loss: 0.2036 - accuracy: 0.9373 - val_loss: 0.2991 - val_accuracy: 0.8905\n",
            "Epoch 9/20\n",
            "30/30 [==============================] - 1s 30ms/step - loss: 0.1841 - accuracy: 0.9423 - val_loss: 0.2981 - val_accuracy: 0.8918\n",
            "Epoch 10/20\n",
            "30/30 [==============================] - 1s 30ms/step - loss: 0.1629 - accuracy: 0.9519 - val_loss: 0.3230 - val_accuracy: 0.8891\n",
            "Epoch 11/20\n",
            "30/30 [==============================] - 1s 31ms/step - loss: 0.1487 - accuracy: 0.9541 - val_loss: 0.3291 - val_accuracy: 0.8829\n",
            "Epoch 12/20\n",
            "30/30 [==============================] - 1s 30ms/step - loss: 0.1303 - accuracy: 0.9613 - val_loss: 0.3579 - val_accuracy: 0.8855\n",
            "Epoch 13/20\n",
            "30/30 [==============================] - 1s 30ms/step - loss: 0.1170 - accuracy: 0.9623 - val_loss: 0.3880 - val_accuracy: 0.8855\n",
            "Epoch 14/20\n",
            "30/30 [==============================] - 1s 37ms/step - loss: 0.1096 - accuracy: 0.9646 - val_loss: 0.4443 - val_accuracy: 0.8833\n",
            "Epoch 15/20\n",
            "30/30 [==============================] - 1s 44ms/step - loss: 0.1005 - accuracy: 0.9703 - val_loss: 0.4217 - val_accuracy: 0.8836\n",
            "Epoch 16/20\n",
            "30/30 [==============================] - 1s 34ms/step - loss: 0.0980 - accuracy: 0.9705 - val_loss: 0.4272 - val_accuracy: 0.8865\n",
            "Epoch 17/20\n",
            "30/30 [==============================] - 1s 31ms/step - loss: 0.0884 - accuracy: 0.9723 - val_loss: 0.4897 - val_accuracy: 0.8847\n",
            "Epoch 18/20\n",
            "30/30 [==============================] - 1s 31ms/step - loss: 0.0826 - accuracy: 0.9741 - val_loss: 0.5120 - val_accuracy: 0.8837\n",
            "Epoch 19/20\n",
            "30/30 [==============================] - 1s 31ms/step - loss: 0.0778 - accuracy: 0.9751 - val_loss: 0.5467 - val_accuracy: 0.8840\n",
            "Epoch 20/20\n",
            "30/30 [==============================] - 1s 30ms/step - loss: 0.0709 - accuracy: 0.9775 - val_loss: 0.5675 - val_accuracy: 0.8841\n"
          ]
        }
      ],
      "source": [
        "model = keras.Sequential([\n",
        "    layers.Dense(16, activation=\"relu\"),\n",
        "    layers.Dropout(0.5),\n",
        "    layers.Dense(16, activation=\"relu\"),\n",
        "    layers.Dropout(0.5),\n",
        "    layers.Dense(1, activation=\"sigmoid\")\n",
        "])\n",
        "model.compile(optimizer=\"rmsprop\",\n",
        "              loss=\"binary_crossentropy\",\n",
        "              metrics=[\"accuracy\"])\n",
        "history_dropout = model.fit(\n",
        "    train_data, train_labels,\n",
        "    epochs=20, batch_size=512, validation_split=0.4)"
      ]
    },
    {
      "cell_type": "markdown",
      "metadata": {
        "id": "yiJng5szSM_n"
      },
      "source": []
    }
  ],
  "metadata": {
    "colab": {
      "provenance": [],
      "authorship_tag": "ABX9TyNlHW5e8vA5MQMQRJxAwvg2",
      "include_colab_link": true
    },
    "kernelspec": {
      "display_name": "Python 3",
      "name": "python3"
    },
    "language_info": {
      "name": "python"
    }
  },
  "nbformat": 4,
  "nbformat_minor": 0
}